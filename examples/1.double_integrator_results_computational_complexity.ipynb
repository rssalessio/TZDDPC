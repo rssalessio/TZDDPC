{
 "cells": [
  {
   "cell_type": "code",
   "execution_count": 3,
   "metadata": {},
   "outputs": [],
   "source": [
    "import numpy as np\n",
    "import pickle\n",
    "import matplotlib.pyplot as plt\n",
    "import pandas as pd\n",
    "from scipy.signal import find_peaks\n",
    "\n",
    "files = ['ZPC', 'TZDDPC', 'STZDDPC1', 'STZDDPC2']\n",
    "\n",
    "data = {x: {} for x in files}\n",
    "\n",
    "for x in files:\n",
    "    with open(f'results/data_{x}.pkl', 'rb') as f:\n",
    "        data[x] = pickle.load(f)"
   ]
  },
  {
   "cell_type": "code",
   "execution_count": 4,
   "metadata": {},
   "outputs": [],
   "source": [
    "def read_memory():\n",
    "    _type = 'memory'\n",
    "    for file in files:\n",
    "        print(file)\n",
    "        for key in data[file][_type].keys():\n",
    "            print(f\"{key} - {round(data[file][_type][key].max())}\")\n",
    "\n",
    "def read_time():\n",
    "    _type = 'time'\n",
    "    for file in files:\n",
    "        print(file)\n",
    "        for key in data[file][_type].keys():\n",
    "            print(f\"{key} - {round(data[file][_type][key].max() /60, 2)}\")\n",
    "\n"
   ]
  },
  {
   "cell_type": "code",
   "execution_count": 7,
   "metadata": {},
   "outputs": [
    {
     "name": "stdout",
     "output_type": "stream",
     "text": [
      "+++ MEMORY +++\n",
      "ZPC\n",
      "1 - 32\n",
      "2 - 1221\n",
      "3 - 34602\n",
      "TZDDPC\n",
      "1 - 22\n",
      "2 - 67\n",
      "3 - 198\n",
      "4 - 2128\n",
      "5 - 30081\n",
      "STZDDPC1\n",
      "1 - 23\n",
      "2 - 57\n",
      "3 - 195\n",
      "4 - 1173\n",
      "5 - 2153\n",
      "6 - 3113\n",
      "7 - 4073\n",
      "8 - 5076\n",
      "9 - 6034\n",
      "10 - 6993\n",
      "STZDDPC2\n",
      "1 - 22\n",
      "2 - 56\n",
      "3 - 195\n",
      "4 - 1949\n",
      "5 - 12122\n"
     ]
    }
   ],
   "source": [
    "print('+++ MEMORY +++')\n",
    "read_memory()"
   ]
  },
  {
   "cell_type": "code",
   "execution_count": 8,
   "metadata": {},
   "outputs": [
    {
     "name": "stdout",
     "output_type": "stream",
     "text": [
      "+++ TIME +++\n",
      "ZPC\n",
      "1 - 0.02\n",
      "2 - 1.02\n",
      "3 - 40.0\n",
      "TZDDPC\n",
      "1 - 0.09\n",
      "2 - 0.13\n",
      "3 - 0.26\n",
      "4 - 1.99\n",
      "5 - 27.75\n",
      "STZDDPC1\n",
      "1 - 0.09\n",
      "2 - 0.13\n",
      "3 - 0.25\n",
      "4 - 1.25\n",
      "5 - 2.2\n",
      "6 - 3.21\n",
      "7 - 4.16\n",
      "8 - 5.14\n",
      "9 - 6.15\n",
      "10 - 7.16\n",
      "STZDDPC2\n",
      "1 - 0.09\n",
      "2 - 0.13\n",
      "3 - 0.25\n",
      "4 - 1.87\n",
      "5 - 12.58\n"
     ]
    }
   ],
   "source": [
    "print('+++ TIME +++')\n",
    "read_time()"
   ]
  }
 ],
 "metadata": {
  "kernelspec": {
   "display_name": "Python 3.7.12 ('zpc')",
   "language": "python",
   "name": "python3"
  },
  "language_info": {
   "codemirror_mode": {
    "name": "ipython",
    "version": 3
   },
   "file_extension": ".py",
   "mimetype": "text/x-python",
   "name": "python",
   "nbconvert_exporter": "python",
   "pygments_lexer": "ipython3",
   "version": "3.7.12"
  },
  "orig_nbformat": 4,
  "vscode": {
   "interpreter": {
    "hash": "3168adc728e96bf117aab3a57d929973c27c9d4c5870fddb21bcb64aa195cdfb"
   }
  }
 },
 "nbformat": 4,
 "nbformat_minor": 2
}
