{
 "cells": [
  {
   "cell_type": "code",
   "execution_count": 2,
   "metadata": {},
   "outputs": [],
   "source": [
    "import numpy as np\n",
    "import pickle\n",
    "import matplotlib.pyplot as plt\n",
    "import pandas as pd\n",
    "from scipy.signal import find_peaks\n",
    "\n",
    "files = ['ZPC', 'TZDDPC', 'STZDDPC1', 'STZDDPC2']\n",
    "\n",
    "data = {x: {} for x in files}\n",
    "\n",
    "for x in files:\n",
    "    with open(f'results/data_{x}.pkl', 'rb') as f:\n",
    "        data[x] = pickle.load(f)"
   ]
  },
  {
   "cell_type": "code",
   "execution_count": 10,
   "metadata": {},
   "outputs": [
    {
     "data": {
      "text/plain": [
       "22403"
      ]
     },
     "execution_count": 10,
     "metadata": {},
     "output_type": "execute_result"
    }
   ],
   "source": [
    "def read_memory():\n",
    "    _type = 'memory'\n",
    "    for file in files:\n",
    "        print(file)\n",
    "        for key in data[file][_type].keys():\n",
    "            print(f\"{key} - {round(data[file][_type][key].max())}\")\n",
    "\n",
    "def read_time():\n",
    "    _type = 'time'\n",
    "    for file in files:\n",
    "        print(file)\n",
    "        for key in data[file][_type].keys():\n",
    "            print(f\"{key} - {round(data[file][_type][key].max() /60, 2)}\")\n"
   ]
  },
  {
   "cell_type": "code",
   "execution_count": 4,
   "metadata": {},
   "outputs": [
    {
     "name": "stdout",
     "output_type": "stream",
     "text": [
      "+++ MEMORY +++\n",
      "ZPC\n",
      "1 - 32\n",
      "2 - 1221\n",
      "3 - 34602\n",
      "TZDDPC\n",
      "1 - 22\n",
      "2 - 67\n",
      "3 - 198\n",
      "4 - 2128\n",
      "5 - 30081\n",
      "STZDDPC1\n",
      "1 - 23\n",
      "2 - 57\n",
      "3 - 195\n",
      "4 - 1173\n",
      "5 - 2153\n",
      "6 - 3113\n",
      "7 - 4073\n",
      "8 - 5076\n",
      "9 - 6034\n",
      "10 - 6993\n",
      "STZDDPC2\n",
      "1 - 22\n",
      "2 - 56\n",
      "3 - 195\n",
      "4 - 1949\n",
      "5 - 12122\n",
      "STZDDPC2LOL\n"
     ]
    },
    {
     "ename": "AttributeError",
     "evalue": "'list' object has no attribute 'max'",
     "output_type": "error",
     "traceback": [
      "\u001b[0;31m---------------------------------------------------------------------------\u001b[0m",
      "\u001b[0;31mAttributeError\u001b[0m                            Traceback (most recent call last)",
      "\u001b[0;32m/tmp/ipykernel_763030/2548969588.py\u001b[0m in \u001b[0;36m<module>\u001b[0;34m\u001b[0m\n\u001b[1;32m      1\u001b[0m \u001b[0mprint\u001b[0m\u001b[0;34m(\u001b[0m\u001b[0;34m'+++ MEMORY +++'\u001b[0m\u001b[0;34m)\u001b[0m\u001b[0;34m\u001b[0m\u001b[0;34m\u001b[0m\u001b[0m\n\u001b[0;32m----> 2\u001b[0;31m \u001b[0mread_memory\u001b[0m\u001b[0;34m(\u001b[0m\u001b[0;34m)\u001b[0m\u001b[0;34m\u001b[0m\u001b[0;34m\u001b[0m\u001b[0m\n\u001b[0m",
      "\u001b[0;32m/tmp/ipykernel_763030/2005501015.py\u001b[0m in \u001b[0;36mread_memory\u001b[0;34m()\u001b[0m\n\u001b[1;32m      4\u001b[0m         \u001b[0mprint\u001b[0m\u001b[0;34m(\u001b[0m\u001b[0mfile\u001b[0m\u001b[0;34m)\u001b[0m\u001b[0;34m\u001b[0m\u001b[0;34m\u001b[0m\u001b[0m\n\u001b[1;32m      5\u001b[0m         \u001b[0;32mfor\u001b[0m \u001b[0mkey\u001b[0m \u001b[0;32min\u001b[0m \u001b[0mdata\u001b[0m\u001b[0;34m[\u001b[0m\u001b[0mfile\u001b[0m\u001b[0;34m]\u001b[0m\u001b[0;34m[\u001b[0m\u001b[0m_type\u001b[0m\u001b[0;34m]\u001b[0m\u001b[0;34m.\u001b[0m\u001b[0mkeys\u001b[0m\u001b[0;34m(\u001b[0m\u001b[0;34m)\u001b[0m\u001b[0;34m:\u001b[0m\u001b[0;34m\u001b[0m\u001b[0;34m\u001b[0m\u001b[0m\n\u001b[0;32m----> 6\u001b[0;31m             \u001b[0mprint\u001b[0m\u001b[0;34m(\u001b[0m\u001b[0;34mf\"{key} - {round(data[file][_type][key].max())}\"\u001b[0m\u001b[0;34m)\u001b[0m\u001b[0;34m\u001b[0m\u001b[0;34m\u001b[0m\u001b[0m\n\u001b[0m\u001b[1;32m      7\u001b[0m \u001b[0;34m\u001b[0m\u001b[0m\n\u001b[1;32m      8\u001b[0m \u001b[0;32mdef\u001b[0m \u001b[0mread_time\u001b[0m\u001b[0;34m(\u001b[0m\u001b[0;34m)\u001b[0m\u001b[0;34m:\u001b[0m\u001b[0;34m\u001b[0m\u001b[0;34m\u001b[0m\u001b[0m\n",
      "\u001b[0;31mAttributeError\u001b[0m: 'list' object has no attribute 'max'"
     ]
    }
   ],
   "source": [
    "print('+++ MEMORY +++')\n",
    "read_memory()"
   ]
  },
  {
   "cell_type": "code",
   "execution_count": 8,
   "metadata": {},
   "outputs": [
    {
     "name": "stdout",
     "output_type": "stream",
     "text": [
      "+++ TIME +++\n",
      "ZPC\n",
      "1 - 0.02\n",
      "2 - 1.02\n",
      "3 - 40.0\n",
      "TZDDPC\n",
      "1 - 0.09\n",
      "2 - 0.13\n",
      "3 - 0.26\n",
      "4 - 1.99\n",
      "5 - 27.75\n",
      "STZDDPC1\n",
      "1 - 0.09\n",
      "2 - 0.13\n",
      "3 - 0.25\n",
      "4 - 1.25\n",
      "5 - 2.2\n",
      "6 - 3.21\n",
      "7 - 4.16\n",
      "8 - 5.14\n",
      "9 - 6.15\n",
      "10 - 7.16\n",
      "STZDDPC2\n",
      "1 - 0.09\n",
      "2 - 0.13\n",
      "3 - 0.25\n",
      "4 - 1.87\n",
      "5 - 12.58\n"
     ]
    }
   ],
   "source": [
    "print('+++ TIME +++')\n",
    "read_time()"
   ]
  }
 ],
 "metadata": {
  "kernelspec": {
   "display_name": "Python 3.7.12 ('zpc')",
   "language": "python",
   "name": "python3"
  },
  "language_info": {
   "codemirror_mode": {
    "name": "ipython",
    "version": 3
   },
   "file_extension": ".py",
   "mimetype": "text/x-python",
   "name": "python",
   "nbconvert_exporter": "python",
   "pygments_lexer": "ipython3",
   "version": "3.7.12"
  },
  "orig_nbformat": 4,
  "vscode": {
   "interpreter": {
    "hash": "3168adc728e96bf117aab3a57d929973c27c9d4c5870fddb21bcb64aa195cdfb"
   }
  }
 },
 "nbformat": 4,
 "nbformat_minor": 2
}
